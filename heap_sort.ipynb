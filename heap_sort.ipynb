{
 "cells": [
  {
   "cell_type": "code",
   "execution_count": 5,
   "metadata": {},
   "outputs": [
    {
     "name": "stdout",
     "output_type": "stream",
     "text": [
      "Writing heap_sort.py\n"
     ]
    }
   ],
   "source": [
    " %%writefile heap_sort.py\n",
    "\n",
    "def sift(li, low, high):\n",
    "    i = low\n",
    "    j = 2 * i + 1\n",
    "    tmp = li[low]\n",
    "    while j <= high:\n",
    "        if j + 1 <= high and li[j+1] > li[j]:\n",
    "            j += 1\n",
    "        if li[j] > tmp:\n",
    "            li[i] = li[j]\n",
    "            i = j\n",
    "            j = 2 * i + 1\n",
    "        else:\n",
    "            break\n",
    "    li[i] = tmp\n",
    "    \n",
    "\n",
    "def heap_sort(li):\n",
    "    # build a heap\n",
    "    n = len(li)\n",
    "    for i  in range(n//2 -1 , -1, -1):\n",
    "        sift(li, i, n-1)\n",
    "    \n",
    "    for i in range(n-1, -1, -1):\n",
    "        li[0], li[i] = li[i], li[0]\n",
    "        sift(li, 0, i-1)\n",
    "    "
   ]
  },
  {
   "cell_type": "code",
   "execution_count": 2,
   "metadata": {},
   "outputs": [],
   "source": [
    "import random"
   ]
  },
  {
   "cell_type": "code",
   "execution_count": 3,
   "metadata": {},
   "outputs": [
    {
     "name": "stdout",
     "output_type": "stream",
     "text": [
      "[26, 28, 17, 67, 30, 51, 12, 83, 38, 82, 71, 59, 55, 88, 78, 35, 46, 37, 25, 21, 65, 44, 95, 52, 99, 31, 11, 73, 14, 75, 41, 47, 7, 40, 16, 5, 97, 80, 63, 32, 93, 68, 15, 45, 91, 74, 39, 50, 2, 72, 77, 56, 48, 6, 70, 85, 43, 61, 76, 60, 33, 29, 22, 36, 42, 54, 92, 18, 86, 62, 0, 13, 34, 23, 20, 9, 66, 84, 87, 3, 64, 94, 57, 8, 49, 10, 89, 1, 98, 96, 90, 4, 19, 58, 69, 79, 24, 27, 81, 53]\n"
     ]
    }
   ],
   "source": [
    "a = list(range(0,100))\n",
    "random.shuffle(a)\n",
    "print(a)"
   ]
  },
  {
   "cell_type": "code",
   "execution_count": 4,
   "metadata": {},
   "outputs": [
    {
     "name": "stdout",
     "output_type": "stream",
     "text": [
      "[0, 1, 2, 3, 4, 5, 6, 7, 8, 9, 10, 11, 12, 13, 14, 15, 16, 17, 18, 19, 20, 21, 22, 23, 24, 25, 26, 27, 28, 29, 30, 31, 32, 33, 34, 35, 36, 37, 38, 39, 40, 41, 42, 43, 44, 45, 46, 47, 48, 49, 50, 51, 52, 53, 54, 55, 56, 57, 58, 59, 60, 61, 62, 63, 64, 65, 66, 67, 68, 69, 70, 71, 72, 73, 74, 75, 76, 77, 78, 79, 80, 81, 82, 83, 84, 85, 86, 87, 88, 89, 90, 91, 92, 93, 94, 95, 96, 97, 98, 99]\n"
     ]
    }
   ],
   "source": [
    "heap_sort(a)\n",
    "print(a)"
   ]
  },
  {
   "cell_type": "code",
   "execution_count": null,
   "metadata": {},
   "outputs": [],
   "source": []
  }
 ],
 "metadata": {
  "kernelspec": {
   "display_name": "Python 3",
   "language": "python",
   "name": "python3"
  },
  "language_info": {
   "codemirror_mode": {
    "name": "ipython",
    "version": 3
   },
   "file_extension": ".py",
   "mimetype": "text/x-python",
   "name": "python",
   "nbconvert_exporter": "python",
   "pygments_lexer": "ipython3",
   "version": "3.7.4"
  }
 },
 "nbformat": 4,
 "nbformat_minor": 2
}
