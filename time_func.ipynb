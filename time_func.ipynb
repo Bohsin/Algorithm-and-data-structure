{
 "cells": [
  {
   "cell_type": "code",
   "execution_count": 2,
   "metadata": {},
   "outputs": [
    {
     "name": "stdout",
     "output_type": "stream",
     "text": [
      "Writing time_func.py\n"
     ]
    }
   ],
   "source": [
    "%%writefile time_func.py\n",
    "import time\n",
    "\n",
    "def time_func(func):\n",
    "    def wrapper(*args, **kwargs):\n",
    "        ti = time.time()\n",
    "        func(*args, **kwargs)\n",
    "        tf = time.time()\n",
    "        print(\"%s running time: %f sec\"%(func.__name__, tf-ti))\n",
    "    \n",
    "    return wrapper"
   ]
  },
  {
   "cell_type": "code",
   "execution_count": null,
   "metadata": {},
   "outputs": [],
   "source": []
  }
 ],
 "metadata": {
  "kernelspec": {
   "display_name": "Python 3",
   "language": "python",
   "name": "python3"
  },
  "language_info": {
   "codemirror_mode": {
    "name": "ipython",
    "version": 3
   },
   "file_extension": ".py",
   "mimetype": "text/x-python",
   "name": "python",
   "nbconvert_exporter": "python",
   "pygments_lexer": "ipython3",
   "version": "3.7.4"
  }
 },
 "nbformat": 4,
 "nbformat_minor": 2
}
