{
 "cells": [
  {
   "cell_type": "code",
   "execution_count": 6,
   "metadata": {},
   "outputs": [
    {
     "name": "stdout",
     "output_type": "stream",
     "text": [
      "Writing merge_sort\n"
     ]
    }
   ],
   "source": [
    "%%writefile merge_sort\n",
    "\n",
    "def merge(li, left, mid, right):\n",
    "    '''\n",
    "    [left: mid]\n",
    "    [mid+1: right]\n",
    "    '''\n",
    "    ltmp = []\n",
    "    i = left\n",
    "    j = mid + 1\n",
    "    while i <= mid and j <= right:\n",
    "        if li[i] < li[j]:\n",
    "            ltmp.append(li[i])\n",
    "            i += 1\n",
    "        else:\n",
    "            ltmp.append(li[j])\n",
    "            j += 1\n",
    "    while i <= mid:\n",
    "        ltmp.append(li[i])\n",
    "        i += 1\n",
    "    while j <= right:\n",
    "        ltmp.append(li[j])\n",
    "        j += 1\n",
    "    li[left:right+1] = ltmp\n",
    "    \n",
    "def _merge_sort(li, left, right):\n",
    "    if left < right:\n",
    "        mid = (left+right)//2\n",
    "        _merge_sort(li, left, mid)\n",
    "        _merge_sort(li, mid+1, right)\n",
    "        merge(li, left, mid, right)\n",
    "\n",
    "def merge_sort(li):\n",
    "    _merge_sort(li, 0, len(li)-1)"
   ]
  },
  {
   "cell_type": "code",
   "execution_count": 2,
   "metadata": {},
   "outputs": [],
   "source": [
    "import random"
   ]
  },
  {
   "cell_type": "code",
   "execution_count": 3,
   "metadata": {},
   "outputs": [
    {
     "name": "stdout",
     "output_type": "stream",
     "text": [
      "[0, 1, 2, 3, 4, 5, 6, 7, 8, 9, 10, 11, 12, 13, 14, 15, 16, 17, 18, 19]\n"
     ]
    }
   ],
   "source": [
    "a =list(range(20))\n",
    "print(a)"
   ]
  },
  {
   "cell_type": "code",
   "execution_count": 4,
   "metadata": {},
   "outputs": [
    {
     "name": "stdout",
     "output_type": "stream",
     "text": [
      "[7, 6, 9, 19, 4, 2, 18, 5, 17, 10, 16, 1, 3, 11, 13, 14, 8, 0, 15, 12]\n"
     ]
    }
   ],
   "source": [
    "random.shuffle(a)\n",
    "print(a)"
   ]
  },
  {
   "cell_type": "code",
   "execution_count": 5,
   "metadata": {},
   "outputs": [
    {
     "name": "stdout",
     "output_type": "stream",
     "text": [
      "[0, 1, 2, 3, 4, 5, 6, 7, 8, 9, 10, 11, 12, 13, 14, 15, 16, 17, 18, 19]\n"
     ]
    }
   ],
   "source": [
    "merge_sort(a)\n",
    "print(a)"
   ]
  },
  {
   "cell_type": "code",
   "execution_count": null,
   "metadata": {},
   "outputs": [],
   "source": []
  }
 ],
 "metadata": {
  "kernelspec": {
   "display_name": "Python 3",
   "language": "python",
   "name": "python3"
  },
  "language_info": {
   "codemirror_mode": {
    "name": "ipython",
    "version": 3
   },
   "file_extension": ".py",
   "mimetype": "text/x-python",
   "name": "python",
   "nbconvert_exporter": "python",
   "pygments_lexer": "ipython3",
   "version": "3.7.4"
  }
 },
 "nbformat": 4,
 "nbformat_minor": 2
}
