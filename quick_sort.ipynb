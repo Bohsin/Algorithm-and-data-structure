{
 "cells": [
  {
   "cell_type": "code",
   "execution_count": 1,
   "metadata": {},
   "outputs": [],
   "source": [
    "#%%writefile quick_sort.py\n",
    "\n",
    "def partition(li, left, right):\n",
    "    tmp = li[left]\n",
    "    while left < right:\n",
    "        while left < right and li[right] >= tmp:\n",
    "            right -= 1\n",
    "        li[left] = li[right]\n",
    "        while left < right and li[left] <= tmp:\n",
    "            left += 1 \n",
    "        li[right] = li[left]\n",
    "    li[left] = tmp\n",
    "    return left\n",
    "\n",
    "def _quick_sort(li, left, right):\n",
    "    if left < right:\n",
    "        mid = partition(li, left, right)\n",
    "        _quick_sort(li, left, mid-1)\n",
    "        _quick_sort(li, mid+1, right)\n",
    "        \n",
    "def quick_sort(li):\n",
    "    _quick_sort(li, 0, len(li)-1)"
   ]
  },
  {
   "cell_type": "code",
   "execution_count": 2,
   "metadata": {},
   "outputs": [
    {
     "name": "stdout",
     "output_type": "stream",
     "text": [
      "[1, 2, 3, 4, 5, 6, 7, 8, 9, 10, 11, 12, 13, 14, 15, 16, 17, 18, 19]\n"
     ]
    }
   ],
   "source": [
    "a = list(range(1,20))\n",
    "print(a)"
   ]
  },
  {
   "cell_type": "code",
   "execution_count": 3,
   "metadata": {},
   "outputs": [
    {
     "name": "stdout",
     "output_type": "stream",
     "text": [
      "[16, 2, 5, 17, 4, 15, 9, 6, 7, 12, 3, 18, 1, 10, 11, 13, 14, 8, 19]\n"
     ]
    }
   ],
   "source": [
    "import random\n",
    "random.shuffle(a)\n",
    "print(a)"
   ]
  },
  {
   "cell_type": "code",
   "execution_count": 4,
   "metadata": {},
   "outputs": [
    {
     "name": "stdout",
     "output_type": "stream",
     "text": [
      "[1, 2, 3, 4, 5, 6, 7, 8, 9, 10, 11, 12, 13, 14, 15, 16, 17, 18, 19]\n"
     ]
    }
   ],
   "source": [
    "quick_sort(a)\n",
    "print(a)"
   ]
  },
  {
   "cell_type": "code",
   "execution_count": null,
   "metadata": {},
   "outputs": [],
   "source": []
  }
 ],
 "metadata": {
  "kernelspec": {
   "display_name": "Python 3",
   "language": "python",
   "name": "python3"
  },
  "language_info": {
   "codemirror_mode": {
    "name": "ipython",
    "version": 3
   },
   "file_extension": ".py",
   "mimetype": "text/x-python",
   "name": "python",
   "nbconvert_exporter": "python",
   "pygments_lexer": "ipython3",
   "version": "3.7.4"
  }
 },
 "nbformat": 4,
 "nbformat_minor": 2
}
